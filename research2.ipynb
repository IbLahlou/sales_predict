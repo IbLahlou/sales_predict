{
 "cells": [
  {
   "cell_type": "code",
   "execution_count": null,
   "metadata": {},
   "outputs": [],
   "source": [
    "import pandas as pd\n",
    "from sklearn.model_selection import train_test_split\n",
    "from sklearn.preprocessing import LabelEncoder\n",
    "from lightgbm import LGBMRegressor\n",
    "from catboost import CatBoostRegressor\n",
    "\n",
    "# Load data\n",
    "data = pd.read_csv('clothes_price_prediction_data.csv')\n",
    "\n",
    "# Encode categorical columns\n",
    "def encode_data(data, columns):\n",
    "    for col in columns:\n",
    "        le = LabelEncoder()\n",
    "        data[col] = le.fit_transform(data[col])\n",
    "    return data\n",
    "\n",
    "# Categorical columns to encode\n",
    "cat_cols = ['Brand', 'Category', 'Color', 'Size', 'Material']\n",
    "data_encoded = encode_data(data, cat_cols)\n",
    "\n",
    "# Split the data into features and target\n",
    "X = data_encoded.drop('Price', axis=1)\n",
    "y = data_encoded['Price']\n",
    "\n",
    "# Split data into training and test sets\n",
    "X_train, X_test, y_train, y_test = train_test_split(X, y, test_size=0.2, random_state=42)\n",
    "\n",
    "# Define model parameters\n",
    "lgb_params = {\n",
    "    'n_estimators': 100,\n",
    "    'learning_rate': 0.1,\n",
    "    'max_depth': 10,\n",
    "    'num_leaves': 31\n",
    "}\n",
    "cat_params = {\n",
    "    'iterations': 100,\n",
    "    'depth': 6,\n",
    "    'learning_rate': 0.1,\n",
    "    'loss_function': 'RMSE'\n",
    "}\n",
    "\n",
    "# Initialize and train the LightGBM model\n",
    "lgb_model = LGBMRegressor(**lgb_params)\n",
    "lgb_model.fit(X_train, y_train)\n",
    "\n",
    "# Initialize and train the CatBoost model\n",
    "cat_model = CatBoostRegressor(**cat_params)\n",
    "cat_model.fit(X_train, y_train, verbose=0)\n",
    "\n",
    "# Make predictions\n",
    "lgb_predictions = lgb_model.predict(X_test)\n",
    "cat_predictions = cat_model.predict(X_test)\n",
    "\n",
    "# Output predictions for new data\n",
    "print(\"Predictions with LightGBM:\", lgb_predictions)\n",
    "print(\"Predictions with CatBoost:\", cat_predictions)\n"
   ]
  },
  {
   "cell_type": "code",
   "execution_count": null,
   "metadata": {},
   "outputs": [],
   "source": []
  }
 ],
 "metadata": {
  "kernelspec": {
   "display_name": "peaqock",
   "language": "python",
   "name": "python3"
  },
  "language_info": {
   "name": "python",
   "version": "3.9.18"
  }
 },
 "nbformat": 4,
 "nbformat_minor": 2
}
